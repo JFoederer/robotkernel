{
 "cells": [
  {
   "cell_type": "code",
   "execution_count": null,
   "metadata": {},
   "outputs": [],
   "source": [
    "*** Settings ***\n",
    "\n",
    "Documentation     Robot Framework 5 syntax examples.\n",
    "\n",
    "Library    IPython.display    # Provides Display-keyword"
   ]
  },
  {
   "cell_type": "code",
   "execution_count": null,
   "metadata": {},
   "outputs": [],
   "source": [
    "*** Test Cases ***\n",
    "TRY / EXCEPT: Catch any exception\n",
    "    TRY\n",
    "        Fail\n",
    "    EXCEPT\n",
    "        Display    EXCEPT with no arguments catches any exception.\n",
    "    END"
   ]
  },
  {
   "cell_type": "code",
   "execution_count": null,
   "metadata": {},
   "outputs": [],
   "source": [
    "*** Test Cases ***\n",
    "\n",
    "TRY / EXCEPT: Catch an exception by exact message\n",
    "    TRY\n",
    "        Fail    Error message\n",
    "    EXCEPT    Error message\n",
    "        Display    Catches only \"Error message\" exceptions.\n",
    "        Display    Enables error-specific exception handling.\n",
    "    END"
   ]
  },
  {
   "cell_type": "code",
   "execution_count": null,
   "metadata": {},
   "outputs": [],
   "source": [
    "*** Test Cases ***\n",
    "\n",
    "TRY / EXCEPT: Multiple EXCEPT statements\n",
    "    TRY\n",
    "        Fail    Error message\n",
    "    EXCEPT    Another error message\n",
    "        Display    Catches only \"Another error message\" exceptions.\n",
    "    EXCEPT    Error message\n",
    "        Display    Catches the \"Error message\" exception.\n",
    "    END"
   ]
  },
  {
   "cell_type": "code",
   "execution_count": null,
   "metadata": {},
   "outputs": [],
   "source": [
    "*** Test Cases ***\n",
    "\n",
    "TRY / EXCEPT: Multiple messages in EXCEPT statement\n",
    "    TRY\n",
    "        Fail    CCC\n",
    "    EXCEPT    AAA    BBB    CCC\n",
    "        Display    Catches any \"AAA\", \"BBB\", or \"CCC\" exception.\n",
    "    END"
   ]
  },
  {
   "cell_type": "code",
   "execution_count": null,
   "metadata": {},
   "outputs": [],
   "source": [
    "*** Test Cases ***\n",
    "\n",
    "TRY / EXCEPT: Catch a specific exception, or an unexpected exception\n",
    "    TRY\n",
    "        Fail    Error message\n",
    "    EXCEPT    Another message\n",
    "        Display    Catches only \"Another message\" exceptions.\n",
    "    EXCEPT\n",
    "        Display    Catches any exception.\n",
    "        Display    Useful for handling unexpected exceptions.\n",
    "    END"
   ]
  },
  {
   "cell_type": "code",
   "execution_count": null,
   "metadata": {},
   "outputs": [],
   "source": [
    "*** Test Cases ***\n",
    "\n",
    "TRY / EXCEPT: Catch exceptions where the message starts with\n",
    "    TRY\n",
    "        Fail    A long error message with lots of details\n",
    "    EXCEPT    A long error message    type=start\n",
    "        Display    Matches the start of an error message.\n",
    "    END"
   ]
  },
  {
   "cell_type": "code",
   "execution_count": null,
   "metadata": {},
   "outputs": [],
   "source": [
    "*** Test Cases ***\n",
    "\n",
    "TRY / EXCEPT: Capture the error message\n",
    "    TRY\n",
    "        Fail    Goodbye, world!\n",
    "    EXCEPT    AS    ${error_message}\n",
    "        Display    ${error_message}    # Goodbye, world!\n",
    "    END"
   ]
  },
  {
   "cell_type": "code",
   "execution_count": null,
   "metadata": {},
   "outputs": [],
   "source": [
    "*** Test Cases ***\n",
    "\n",
    "TRY / EXCEPT: Using ELSE when no exceptions occured\n",
    "    TRY\n",
    "        Display    All good!\n",
    "    EXCEPT    Error message\n",
    "        Display    An error occured.\n",
    "    ELSE\n",
    "        Display    No error occured.\n",
    "    END"
   ]
  },
  {
   "cell_type": "code",
   "execution_count": null,
   "metadata": {},
   "outputs": [],
   "source": [
    "*** Test Cases ***\n",
    "\n",
    "TRY / EXCEPT / FINALLY: Always execute code no matter if exceptions or not\n",
    "    TRY\n",
    "        Display    All good!\n",
    "    FINALLY\n",
    "        Display    FINALLY is always executed.\n",
    "    END\n",
    "    TRY\n",
    "        Fail    Catastrophic failure!\n",
    "    EXCEPT\n",
    "        Display    Catches any exception.\n",
    "    FINALLY\n",
    "        Display    FINALLY is always executed.\n",
    "    END"
   ]
  },
  {
   "cell_type": "code",
   "execution_count": null,
   "metadata": {},
   "outputs": [],
   "source": [
    "*** Test Cases ***\n",
    "\n",
    "TRY / EXCEPT / ELSE / FINALLY: All together!\n",
    "    TRY\n",
    "        Fail    Error message\n",
    "    EXCEPT\n",
    "        Display    Executed if any exception occurs.\n",
    "    ELSE\n",
    "        Display    Executed if no exceptions occur.\n",
    "    FINALLY\n",
    "        Display    FINALLY is always executed.\n",
    "    END"
   ]
  },
  {
   "cell_type": "code",
   "execution_count": null,
   "metadata": {},
   "outputs": [],
   "source": [
    "*** Test Cases ***\n",
    "\n",
    "TRY / EXCEPT: Glob pattern matching\n",
    "    TRY\n",
    "        Fail    My error: 99 occured\n",
    "    EXCEPT    My error: *    type=glob\n",
    "        Display    Catches by glob pattern matching.\n",
    "    END\n",
    "    "
   ]
  },
  {
   "cell_type": "code",
   "execution_count": null,
   "metadata": {},
   "outputs": [],
   "source": [
    "*** Test Cases ***\n",
    "\n",
    "TRY / EXCEPT: Regular expression matching\n",
    "    TRY\n",
    "        Fail    error 99 occured\n",
    "    EXCEPT    [Ee]rror \\\\d+ occured    type=regexp\n",
    "        Display    Catches by regular expression pattern matching.\n",
    "    END"
   ]
  }
 ],
 "metadata": {
  "kernelspec": {
   "display_name": "Robot Framework",
   "language": "robotframework",
   "name": "Robot Framework"
  },
  "language_info": {
   "codemirror_mode": {
    "name": "robotframework",
    "version": 3
   },
   "file_extension": ".robot",
   "mimetype": "text/x-robotframework",
   "name": "robotframework",
   "nbconvert_exporter": "robotframework",
   "pygments_lexer": "robotframework",
   "version": "3.8"
  }
 },
 "nbformat": 4,
 "nbformat_minor": 4
}
